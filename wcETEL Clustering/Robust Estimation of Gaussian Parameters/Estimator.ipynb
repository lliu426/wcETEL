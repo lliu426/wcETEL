{
 "cells": [
  {
   "cell_type": "code",
   "execution_count": 1,
   "id": "382d3eba",
   "metadata": {},
   "outputs": [],
   "source": [
    "import numpy as np\n",
    "from lel_ws import LEL_WS\n",
    "from scipy.optimize import minimize"
   ]
  },
  {
   "cell_type": "code",
   "execution_count": 2,
   "id": "86812d26",
   "metadata": {},
   "outputs": [],
   "source": [
    "def generate_data(N, mu, sigma2, pi):\n",
    "    n_contam = int(N * pi)\n",
    "    n_clean = N - n_contam\n",
    "    data_clean = np.random.normal(loc=mu, scale=np.sqrt(sigma2), size=n_clean)\n",
    "    data_contam = np.random.normal(loc=100, scale=1.0, size=n_contam)\n",
    "    return np.sort(np.concatenate([data_clean, data_contam]))"
   ]
  },
  {
   "cell_type": "code",
   "execution_count": 3,
   "id": "9d24fd52",
   "metadata": {},
   "outputs": [],
   "source": [
    "def neg_log_lel_ws(params, x, lambda_param):\n",
    "    mu, log_sigma2 = params\n",
    "    sigma2 = np.exp(log_sigma2)  # ensures sigma² > 0\n",
    "    out = LEL_WS(x, mu, sigma2, lambda_param)\n",
    "    print(f\"Trying mu={mu:.4f}, sigma²={sigma2:.4f}, LEL_WS={out['Optimal_Value']:.4f}\")\n",
    "    return -out[\"Optimal_Value\"]  # negate for minimization"
   ]
  },
  {
   "cell_type": "code",
   "execution_count": 4,
   "id": "9fad9bbf-66b2-4461-b1a6-e1c272144ff4",
   "metadata": {},
   "outputs": [
    {
     "name": "stdout",
     "output_type": "stream",
     "text": [
      "\n",
      "=== Contamination π = 0.0 ===\n",
      "Trying mu=0.0371, sigma²=0.8602, LEL_WS=-460.5170\n",
      "Trying mu=0.0371, sigma²=0.8602, LEL_WS=-460.5170\n",
      "Trying mu=0.0371, sigma²=0.8602, LEL_WS=-460.5170\n",
      "Optimization suceeds: μ̂ = 0.0371,  σ̂² = 0.8602\n",
      "\n",
      "=== Contamination π = 0.01 ===\n",
      "Trying mu=0.9008, sigma²=100.3526, LEL_WS=-460.5170\n",
      "Trying mu=0.9008, sigma²=100.3526, LEL_WS=-460.5170\n",
      "Trying mu=0.9008, sigma²=100.3526, LEL_WS=-460.5170\n",
      "Trying mu=1.2170, sigma²=38.8616, LEL_WS=-460.5170\n",
      "Trying mu=1.2170, sigma²=38.8616, LEL_WS=-460.5170\n",
      "Trying mu=1.2170, sigma²=38.8616, LEL_WS=-460.5170\n",
      "Trying mu=2.0076, sigma²=24.1834, LEL_WS=-460.5170\n",
      "Trying mu=2.0076, sigma²=24.1834, LEL_WS=-460.5170\n",
      "Trying mu=2.0076, sigma²=24.1834, LEL_WS=-460.5170\n",
      "Optimization suceeds: μ̂ = 2.0076,  σ̂² = 24.1834\n",
      "\n",
      "=== Contamination π = 0.2 ===\n",
      "Trying mu=19.8855, sigma²=1595.4506, LEL_WS=-460.5280\n",
      "Trying mu=19.8855, sigma²=1595.4506, LEL_WS=-460.5280\n",
      "Trying mu=19.8855, sigma²=1595.4506, LEL_WS=-460.5280\n",
      "Trying mu=19.8884, sigma²=586.9358, LEL_WS=-460.5249\n",
      "Trying mu=19.8884, sigma²=586.9358, LEL_WS=-460.5249\n",
      "Trying mu=19.8884, sigma²=586.9358, LEL_WS=-460.5249\n",
      "Trying mu=19.8997, sigma²=10.7503, LEL_WS=-460.5261\n",
      "Trying mu=19.8997, sigma²=10.7503, LEL_WS=-460.5261\n",
      "Trying mu=19.8997, sigma²=10.7503, LEL_WS=-460.5261\n",
      "Trying mu=19.8942, sigma²=74.6753, LEL_WS=-460.5170\n",
      "Trying mu=19.8942, sigma²=74.6753, LEL_WS=-460.5170\n",
      "Trying mu=19.8942, sigma²=74.6753, LEL_WS=-460.5170\n",
      "Trying mu=19.9020, sigma²=87.3504, LEL_WS=-460.5170\n",
      "Trying mu=19.9020, sigma²=87.3504, LEL_WS=-460.5170\n",
      "Trying mu=19.9020, sigma²=87.3504, LEL_WS=-460.5170\n",
      "Trying mu=19.8961, sigma²=77.4959, LEL_WS=-460.5170\n",
      "Trying mu=19.8961, sigma²=77.4959, LEL_WS=-460.5170\n",
      "Trying mu=19.8961, sigma²=77.4959, LEL_WS=-460.5170\n",
      "Optimization suceeds: μ̂ = 19.8961,  σ̂² = 77.4959\n"
     ]
    }
   ],
   "source": [
    "lambda_param = 1.0\n",
    "\n",
    "for pi in [0.0, 0.01, 0.2]:\n",
    "    print(f\"\\n=== Contamination π = {pi} ===\")\n",
    "    x = generate_data(100, mu=0, sigma2=1, pi=pi)\n",
    "    init_params = [np.mean(x), np.log(np.var(x))]\n",
    "    result = minimize(neg_log_lel_ws, init_params, args=(x, lambda_param), method='L-BFGS-B')\n",
    "    \n",
    "    if result.success:\n",
    "        mu_hat, sigma2_hat = result.x[0], np.exp(result.x[1])\n",
    "        print(f\"Optimization suceeds: μ̂ = {mu_hat:.4f},  σ̂² = {sigma2_hat:.4f}\")\n",
    "    else:\n",
    "        print(f\"Optimization failed: {result.message}\")"
   ]
  }
 ],
 "metadata": {
  "kernelspec": {
   "display_name": "Python 3 (ipykernel)",
   "language": "python",
   "name": "python3"
  },
  "language_info": {
   "codemirror_mode": {
    "name": "ipython",
    "version": 3
   },
   "file_extension": ".py",
   "mimetype": "text/x-python",
   "name": "python",
   "nbconvert_exporter": "python",
   "pygments_lexer": "ipython3",
   "version": "3.13.3"
  }
 },
 "nbformat": 4,
 "nbformat_minor": 5
}
