{
 "cells": [
  {
   "cell_type": "code",
   "execution_count": 1,
   "id": "382d3eba",
   "metadata": {},
   "outputs": [],
   "source": [
    "import numpy as np\n",
    "from lel_ws import LEL_WS\n",
    "from scipy.optimize import minimize\n",
    "import pandas as pd\n",
    "import matplotlib.pyplot as plt\n",
    "import matplotlib.ticker as ticker\n",
    "import seaborn as sns\n",
    "from joblib import Parallel, delayed\n",
    "import os\n",
    "from datetime import datetime\n",
    "import matplotlib.cm as cm\n",
    "import matplotlib.colors as mcolors\n",
    "from IPython.display import display\n",
    "import time"
   ]
  },
  {
   "cell_type": "code",
   "execution_count": 2,
   "id": "86812d26",
   "metadata": {},
   "outputs": [],
   "source": [
    "def generate_data(N, mu, sigma2, pi, contam_mean=10):\n",
    "    n_contam = int(N * pi)\n",
    "    n_clean = N - n_contam\n",
    "    data_clean = np.random.normal(loc=mu, scale=np.sqrt(sigma2), size=n_clean)\n",
    "    data_contam = np.random.normal(loc=contam_mean, scale=1.0, size=n_contam)\n",
    "    return np.sort(np.concatenate([data_clean, data_contam]))"
   ]
  },
  {
   "cell_type": "code",
   "execution_count": 3,
   "id": "9d24fd52",
   "metadata": {},
   "outputs": [],
   "source": [
    "def neg_log_lel_ws(params, x, lambda_param):\n",
    "    mu, log_sigma2 = params\n",
    "    sigma2 = np.exp(log_sigma2)  # ensures sigma² > 0\n",
    "    out = LEL_WS(x, mu, sigma2, lambda_param)\n",
    "    print(f\"Trying mu={mu:.4f}, sigma²={sigma2:.4f}, LEL_WS={out['Optimal_Value']:.4f}\")\n",
    "    return -out[\"Optimal_Value\"]  # negate for minimization"
   ]
  },
  {
   "cell_type": "code",
   "execution_count": 4,
   "id": "fdcf42f7-d538-4e0a-89ef-db19344e05ad",
   "metadata": {},
   "outputs": [],
   "source": [
    "def eval_lel(mu, sigma2):\n",
    "    try:\n",
    "        result = LEL_WS(x, mu, sigma2, lambda_param)\n",
    "        return (mu, sigma2, result[\"Optimal_Value\"])\n",
    "    except:\n",
    "        return (mu, sigma2, -np.inf)"
   ]
  },
  {
   "cell_type": "code",
   "execution_count": null,
   "id": "bcdb0cc1-7f0a-43e3-b938-ab73dd5f20db",
   "metadata": {},
   "outputs": [
    {
     "name": "stdout",
     "output_type": "stream",
     "text": [
      "\n",
      "========================\n",
      "Running for ε = 0.0100 (λ = 100.00)\n",
      "\n",
      "--- π = 0.0 ---\n",
      "Finished π = 0.00, ε = 0.01 with 1/1 successes.\n",
      "\n",
      "--- π = 0.01 ---\n"
     ]
    }
   ],
   "source": [
    "mu_grid     = np.linspace(-0.5, 1.5, 10)\n",
    "sigma2_grid = np.linspace(0.5, 3.0, 10)\n",
    "epsilon_list = [0.01, 0.1, 0.25, 0.5]\n",
    "pi_list = [0.0, 0.01, 0.1]\n",
    "n_rep = 1  # Change to 50 when needed\n",
    "true_mu = 0\n",
    "\n",
    "# Pre-generate datasets using fixed seeds\n",
    "datasets = {pi: [] for pi in pi_list}\n",
    "for pi in pi_list:\n",
    "    for rep in range(n_rep):\n",
    "        seed = 1000 * rep + int(pi * 1000)  # unique seed per (π, rep)\n",
    "        rng = np.random.default_rng(seed)\n",
    "        x = generate_data(N=100, mu=true_mu, sigma2=1, pi=pi, contam_mean=5)\n",
    "        datasets[pi].append(x)\n",
    "\n",
    "# Storage\n",
    "error_results = {pi: {} for pi in pi_list}\n",
    "sample_stats = {pi: {} for pi in pi_list}\n",
    "\n",
    "start_time = time.time()\n",
    "\n",
    "for epsilon in epsilon_list:\n",
    "    lambda_param = 1 / epsilon\n",
    "    print(f\"\\n========================\")\n",
    "    print(f\"Running for ε = {epsilon:.4f} (λ = {lambda_param:.2f})\")\n",
    "\n",
    "    for pi in pi_list:\n",
    "        print(f\"\\n--- π = {pi} ---\")\n",
    "\n",
    "        mu_errors = []\n",
    "        sample_means = []\n",
    "        sample_vars = []\n",
    "\n",
    "        for rep in range(n_rep):\n",
    "            x = datasets[pi][rep]\n",
    "\n",
    "            # Save sample stats\n",
    "            sample_means.append(np.mean(x))\n",
    "            sample_vars.append(np.var(x))\n",
    "\n",
    "            param_grid = [(mu, sigma2) for mu in mu_grid for sigma2 in sigma2_grid]\n",
    "\n",
    "            raw_results = Parallel(n_jobs=-1, verbose=0)(\n",
    "                delayed(eval_lel)(mu, sigma2) for (mu, sigma2) in param_grid\n",
    "            )\n",
    "\n",
    "            filtered = [(mu, sigma2, val) for (mu, sigma2, val) in raw_results if np.isfinite(val)]\n",
    "            if filtered:\n",
    "                best_mu, _, _ = max(filtered, key=lambda x: x[2])\n",
    "                mu_errors.append(abs(best_mu - true_mu))\n",
    "            else:\n",
    "                mu_errors.append(np.nan)\n",
    "\n",
    "        error_results[pi][epsilon] = mu_errors\n",
    "        sample_stats[pi][epsilon] = {\"mean\": sample_means, \"var\": sample_vars}\n",
    "\n",
    "        print(f\"Finished π = {pi:.2f}, ε = {epsilon:.2f} with {sum(np.isfinite(mu_errors))}/{n_rep} successes.\")\n",
    "\n",
    "end_time = time.time()\n",
    "print(f\"Execution time: {end_time - start_time:.4f} seconds\")"
   ]
  },
  {
   "cell_type": "code",
   "execution_count": null,
   "id": "a3014062-6758-41b2-9a04-0cb72a0badd3",
   "metadata": {},
   "outputs": [],
   "source": [
    "records = []\n",
    "for pi in pi_list:\n",
    "    for epsilon in epsilon_list:\n",
    "        for val in error_results[pi][epsilon]:\n",
    "            if np.isfinite(val):\n",
    "                records.append({\n",
    "                    \"π\": pi,\n",
    "                    \"ε\": epsilon,\n",
    "                    \"|μ̂ - μ|\": val\n",
    "                })\n",
    "\n",
    "df_errors = pd.DataFrame(records)\n",
    "\n",
    "# Plot boxplot\n",
    "plt.figure(figsize=(10, 5))\n",
    "sns.boxplot(data=df_errors, x=\"ε\", y=\"|μ̂ - μ|\", hue=\"π\")\n",
    "plt.title(\"Boxplot of |μ̂ − μ| across 50 Replications\")\n",
    "plt.xlabel(\"ε (epsilon)\")\n",
    "plt.ylabel(\"Absolute Error in μ̂\")\n",
    "plt.legend(title=\"π (contamination)\")\n",
    "plt.grid(True, linestyle=\"--\", alpha=0.5)\n",
    "plt.tight_layout()\n",
    "plt.show()"
   ]
  }
 ],
 "metadata": {
  "kernelspec": {
   "display_name": "Python 3 (ipykernel)",
   "language": "python",
   "name": "python3"
  },
  "language_info": {
   "codemirror_mode": {
    "name": "ipython",
    "version": 3
   },
   "file_extension": ".py",
   "mimetype": "text/x-python",
   "name": "python",
   "nbconvert_exporter": "python",
   "pygments_lexer": "ipython3",
   "version": "3.13.3"
  }
 },
 "nbformat": 4,
 "nbformat_minor": 5
}
