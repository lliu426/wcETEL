{
 "cells": [
  {
   "cell_type": "code",
   "execution_count": 1,
   "id": "df5d8b14-f0df-4e87-a865-afcbd6f5b98e",
   "metadata": {},
   "outputs": [],
   "source": [
    "import numpy as np\n",
    "import torch\n",
    "\n",
    "N = 100\n",
    "X = np.sort(np.random.normal(0, 1, size=N))\n"
   ]
  },
  {
   "cell_type": "code",
   "execution_count": 2,
   "id": "b05f48c0-62be-4d3e-8e7a-c298f95da9fd",
   "metadata": {},
   "outputs": [
    {
     "name": "stderr",
     "output_type": "stream",
     "text": [
      "C:\\Users\\12822\\AppData\\Local\\Programs\\Python\\Python313\\Lib\\site-packages\\torch\\cuda\\__init__.py:287: UserWarning: \n",
      "NVIDIA GeForce RTX 5070 Ti Laptop GPU with CUDA capability sm_120 is not compatible with the current PyTorch installation.\n",
      "The current PyTorch install supports CUDA capabilities sm_37 sm_50 sm_60 sm_61 sm_70 sm_75 sm_80 sm_86 sm_90 compute_37.\n",
      "If you want to use the NVIDIA GeForce RTX 5070 Ti Laptop GPU GPU with PyTorch, please check the instructions at https://pytorch.org/get-started/locally/\n",
      "\n",
      "  warnings.warn(\n",
      "C:\\Users\\12822\\Pati Research\\wcETEL Clustering\\RE-gpu-try\\optimal_transport_1d_gpu.py:8: UserWarning: To copy construct from a tensor, it is recommended to use sourceTensor.detach().clone() or sourceTensor.detach().clone().requires_grad_(True), rather than torch.tensor(sourceTensor).\n",
      "  self.masses = torch.tensor(masses, dtype=torch.float64, device=self.device)\n"
     ]
    },
    {
     "name": "stdout",
     "output_type": "stream",
     "text": [
      "indices len: 100\n",
      "cell_indices len: 99\n",
      "integrals len: 99\n",
      "indices len: 76\n",
      "cell_indices len: 75\n",
      "integrals len: 75\n",
      "indices len: 69\n",
      "cell_indices len: 68\n",
      "integrals len: 68\n",
      "indices len: 68\n",
      "cell_indices len: 67\n",
      "integrals len: 67\n",
      "indices len: 70\n",
      "cell_indices len: 69\n",
      "integrals len: 69\n",
      "indices len: 68\n",
      "cell_indices len: 67\n",
      "integrals len: 67\n",
      "indices len: 72\n",
      "cell_indices len: 71\n",
      "integrals len: 71\n",
      "indices len: 67\n",
      "cell_indices len: 66\n",
      "integrals len: 66\n",
      "indices len: 64\n",
      "cell_indices len: 63\n",
      "integrals len: 63\n",
      "indices len: 69\n",
      "cell_indices len: 68\n",
      "integrals len: 68\n",
      "indices len: 73\n",
      "cell_indices len: 72\n",
      "integrals len: 72\n",
      "indices len: 67\n",
      "cell_indices len: 66\n",
      "integrals len: 66\n",
      "indices len: 72\n",
      "cell_indices len: 71\n",
      "integrals len: 71\n",
      "indices len: 67\n",
      "cell_indices len: 66\n",
      "integrals len: 66\n",
      "indices len: 72\n",
      "cell_indices len: 71\n",
      "integrals len: 71\n",
      "indices len: 69\n",
      "cell_indices len: 68\n",
      "integrals len: 68\n",
      "indices len: 73\n",
      "cell_indices len: 72\n",
      "integrals len: 72\n",
      "indices len: 70\n",
      "cell_indices len: 69\n",
      "integrals len: 69\n",
      "indices len: 70\n",
      "cell_indices len: 69\n",
      "integrals len: 69\n",
      "indices len: 69\n",
      "cell_indices len: 68\n",
      "integrals len: 68\n",
      "Final log-sum: -460.5170185988091\n"
     ]
    },
    {
     "data": {
      "image/png": "[encoded data removed]",
      "text/plain": [
       "<Figure size 640x480 with 1 Axes>"
      ]
     },
     "metadata": {},
     "output_type": "display_data"
    }
   ],
   "source": [
    "from wc_ETEL_gpu import wc_ETEL_gpu\n",
    "\n",
    "masses, logsum = wc_ETEL_gpu(\n",
    "    theta0=0.0,\n",
    "    sigma0=1.0,\n",
    "    lamda=5.0,\n",
    "    data=X,\n",
    "    verbose=True\n",
    ")\n",
    "\n",
    "print(\"Final log-sum:\", logsum)\n",
    "\n",
    "import matplotlib.pyplot as plt\n",
    "plt.plot(masses.cpu().numpy())\n",
    "plt.title(\"Final Masses from wc_ETEL_gpu\")\n",
    "plt.grid(True)\n",
    "plt.show()\n"
   ]
  },
  {
   "cell_type": "code",
   "execution_count": 3,
   "id": "dacc5755-8181-4c8b-b4e4-4c18e115750d",
   "metadata": {},
   "outputs": [
    {
     "name": "stderr",
     "output_type": "stream",
     "text": [
      "C:\\Users\\12822\\Pati Research\\wcETEL Clustering\\RE-gpu-try\\optimal_transport_1d_gpu.py:8: UserWarning: To copy construct from a tensor, it is recommended to use sourceTensor.detach().clone() or sourceTensor.detach().clone().requires_grad_(True), rather than torch.tensor(sourceTensor).\n",
      "  self.masses = torch.tensor(masses, dtype=torch.float64, device=self.device)\n"
     ]
    },
    {
     "name": "stdout",
     "output_type": "stream",
     "text": [
      "indices len: 100\n",
      "cell_indices len: 99\n",
      "integrals len: 99\n",
      "indices len: 76\n",
      "cell_indices len: 75\n",
      "integrals len: 75\n",
      "indices len: 69\n",
      "cell_indices len: 68\n",
      "integrals len: 68\n",
      "indices len: 68\n",
      "cell_indices len: 67\n",
      "integrals len: 67\n",
      "indices len: 70\n",
      "cell_indices len: 69\n",
      "integrals len: 69\n",
      "indices len: 68\n",
      "cell_indices len: 67\n",
      "integrals len: 67\n",
      "indices len: 72\n",
      "cell_indices len: 71\n",
      "integrals len: 71\n",
      "indices len: 67\n",
      "cell_indices len: 66\n",
      "integrals len: 66\n",
      "indices len: 64\n",
      "cell_indices len: 63\n",
      "integrals len: 63\n",
      "indices len: 69\n",
      "cell_indices len: 68\n",
      "integrals len: 68\n",
      "indices len: 73\n",
      "cell_indices len: 72\n",
      "integrals len: 72\n",
      "indices len: 67\n",
      "cell_indices len: 66\n",
      "integrals len: 66\n",
      "indices len: 72\n",
      "cell_indices len: 71\n",
      "integrals len: 71\n",
      "indices len: 67\n",
      "cell_indices len: 66\n",
      "integrals len: 66\n",
      "indices len: 72\n",
      "cell_indices len: 71\n",
      "integrals len: 71\n",
      "indices len: 69\n",
      "cell_indices len: 68\n",
      "integrals len: 68\n",
      "indices len: 73\n",
      "cell_indices len: 72\n",
      "integrals len: 72\n",
      "indices len: 70\n",
      "cell_indices len: 69\n",
      "integrals len: 69\n",
      "indices len: 70\n",
      "cell_indices len: 69\n",
      "integrals len: 69\n",
      "indices len: 69\n",
      "cell_indices len: 68\n",
      "integrals len: 68\n",
      "Optimal Value: -460.5170185988091\n"
     ]
    },
    {
     "data": {
      "image/png": "[encoded data removed]",
      "text/plain": [
       "<Figure size 640x480 with 1 Axes>"
      ]
     },
     "metadata": {},
     "output_type": "display_data"
    }
   ],
   "source": [
    "from LEL_WS_gpu import LEL_WS_gpu\n",
    "\n",
    "result = LEL_WS_gpu(X_data=X, mu=0.0, sigma2=1.0, lamda=5.0)\n",
    "print(\"Optimal Value:\", result[\"Optimal_Value\"])\n",
    "\n",
    "plt.plot(result[\"P\"].cpu().numpy())\n",
    "plt.title(\"Masses from LEL_WS_gpu\")\n",
    "plt.grid(True)\n",
    "plt.show()\n"
   ]
  }
 ],
 "metadata": {
  "kernelspec": {
   "display_name": "Python 3 (ipykernel)",
   "language": "python",
   "name": "python3"
  },
  "language_info": {
   "codemirror_mode": {
    "name": "ipython",
    "version": 3
   },
   "file_extension": ".py",
   "mimetype": "text/x-python",
   "name": "python",
   "nbconvert_exporter": "python",
   "pygments_lexer": "ipython3",
   "version": "3.13.3"
  }
 },
 "nbformat": 4,
 "nbformat_minor": 5
}
