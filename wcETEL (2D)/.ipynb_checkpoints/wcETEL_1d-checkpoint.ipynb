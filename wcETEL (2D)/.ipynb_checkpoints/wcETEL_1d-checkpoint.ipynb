{
 "cells": [
  {
   "cell_type": "code",
   "execution_count": 1,
   "id": "1d52be9d-1d64-4e12-8834-9f483d644f0b",
   "metadata": {},
   "outputs": [],
   "source": [
    "import numpy as np\n",
    "import math\n",
    "from scipy.integrate import quad\n",
    "import matplotlib.pyplot as plt\n",
    "from scipy.sparse import diags\n",
    "from scipy.sparse.linalg import spsolve\n",
    "from scipy.special import gamma, factorial\n",
    "from scipy.stats import beta\n",
    "import time"
   ]
  },
  {
   "cell_type": "code",
   "execution_count": 2,
   "id": "9bb0f61d-56ca-4e29-bf56-38ca490e2a82",
   "metadata": {},
   "outputs": [],
   "source": [
    "class PowerDiagram1D:\n",
    "    def __init__(self, X, weights=None, L=1.0):\n",
    "        \"\"\"\n",
    "        Parameters\n",
    "        ----------\n",
    "        X : ndarray,\n",
    "            positions of particles (assumed ordered with no repeats)\n",
    "        weights : ndarray, optional,\n",
    "            weights of Laguerre cells\n",
    "        L : float, optional,\n",
    "            domain length\n",
    "        \"\"\"\n",
    "        # use deep copy to make it independent, trivially slower, same for following copies\n",
    "        self.X = np.array(X, copy=True)\n",
    "        # store len(X) to avoid repeated reading\n",
    "        self.n = len(X) \n",
    "        # check None in int to avoid checking everytime calling update_boundaries\n",
    "        self.weights = np.zeros(self.n) if weights is None else np.array(weights, copy=True) \n",
    "        self.L = L\n",
    "        self.Bounds = np.empty(self.n)\n",
    "        self.indices = []\n",
    "        self.updated_flag = False\n",
    "\n",
    "    def set_positions(self, X):\n",
    "        self.X = np.array(X, copy=True)\n",
    "\n",
    "    def set_weights(self, weights):\n",
    "        self.weights = np.array(weights, copy=True)\n",
    "        self.updated_flag = False\n",
    "\n",
    "    def update_boundaries(self):\n",
    "        \"\"\"\n",
    "        Compute power diagram boundaries via Graham scan.\n",
    "        \"\"\"\n",
    "        indices = [0, 1]\n",
    "        u = (self.X**2 - self.weights) / 2\n",
    "\n",
    "        # same function, but more readable and easier to debug\n",
    "        def slope(i, j):\n",
    "            return (u[j] - u[i]) / (self.X[j] - self.X[i])\n",
    "\n",
    "        # same thing, but simpler, cleaner\n",
    "        for i in range(2, self.n):\n",
    "            while len(indices) >= 2 and slope(i, indices[-1]) <= slope(indices[-1], indices[-2]):\n",
    "                indices.pop()\n",
    "            indices.append(i)\n",
    "\n",
    "        Bounds_noconstr = (u[indices][1:] - u[indices][:-1]) / (self.X[indices][1:] - self.X[indices][:-1])\n",
    "\n",
    "        # Just not use mask (I do not get the point of creating mask here).\n",
    "        i0 = np.sum(Bounds_noconstr <= 0)\n",
    "        iend = np.sum(Bounds_noconstr >= self.L)\n",
    "        indices = indices[i0:len(indices) - iend]\n",
    "\n",
    "        self.indices = indices\n",
    "        self.Bounds = np.zeros(len(indices) + 1)\n",
    "        self.Bounds[-1] = self.L\n",
    "        self.Bounds[1:-1] = Bounds_noconstr[i0:len(Bounds_noconstr) - iend] #(u[indices][1:] -u[indices][:-1])/(self.X[indices][1:] - self.X[indices][:-1])\n",
    "\n",
    "        self.updated_flag = True\n",
    "\n",
    "    def compute_energy(self, fun=None):\n",
    "        \"\"\"\n",
    "        Computes power diagram energy sum_i int_{L_i} |x-x_i|^2\n",
    "        \"\"\"\n",
    "        fplus = (self.Bounds[1:] - self.X[self.indices])**3/3\n",
    "        fminus = (self.Bounds[:-1] - self.X[self.indices])**3/3\n",
    "        return np.sum(fplus - fminus) # return directly\n",
    "\n",
    "    def compute_integrals(self, fun):\n",
    "        \"\"\"\n",
    "        Compute integral of function rho over Laguerre cells.\n",
    "        Parameters:\n",
    "        ----------\n",
    "        fun: function. Density to integrate\n",
    "        \"\"\"\n",
    "        if not self.updated_flag:\n",
    "            self.update_boundaries()\n",
    "        N = len(self.Bounds) - 1\n",
    "        integrals = np.zeros(N)\n",
    "        for i in range(N):\n",
    "            integrals[i], _ = quad(fun, self.Bounds[i], self.Bounds[i + 1])\n",
    "        return integrals\n",
    "\n",
    "    def compute_integrals_ipp(self, intp_fun, p=None):\n",
    "        \"\"\"\n",
    "        Computes the integral of fun(x)*(x-x_i)^p over Laguerre cells using integration by parts.\n",
    "        Parameters:\n",
    "        ----------\n",
    "        intp_rho : list of length p+1, of lambda functions providing [int fun, int int fun , ..]\n",
    "        \"\"\"\n",
    "        if p is None:\n",
    "            p = len(intp_fun)-1\n",
    "        else:\n",
    "            assert len(intp_fun)>=p+1\n",
    "\n",
    "        if p == 0:\n",
    "            return intp_fun[0](self.Bounds[1:])-intp_fun[0](self.Bounds[:-1])\n",
    "        # No need for else here\n",
    "        integrals_p = ((self.Bounds[1:] - self.X[self.indices])**p*intp_fun[0](self.Bounds[1:])\n",
    "                       - (self.Bounds[:-1] - self.X[self.indices])**p*intp_fun[0](self.Bounds[:-1]))\n",
    "        integrals = -p * self.compute_integrals_ipp(intp_fun[1:], p=p-1) + integrals_p\n",
    "        return integrals\n",
    "\n",
    "    def compute_integrals_gradient(self, fun):\n",
    "        \"\"\"\n",
    "        Compute gradient with respect to weights of \n",
    "            G: w --> integrals of function rho over Laguerre cells.\n",
    "        \"\"\"\n",
    "        if not self.updated_flag:\n",
    "            self.update_boundaries()\n",
    "        # Force lower bound on density\n",
    "        # temporary use, copy unnecessary\n",
    "        Xact = self.X[self.indices]\n",
    "        feval = fun(self.Bounds[1:-1])\n",
    "        # fmin = np.min(feval) # unused object\n",
    "        feval = feval * (1 - 1e-2) + 1e-2 #- fmin +   np.max((1e-2,fmin))\n",
    "        \n",
    "        #(np.maximum(fun(self.Bounds[1:-1])-fmin,0)+fmin)\n",
    "        vect = 0.5 * feval/np.abs(Xact[1:] - Xact[:-1])\n",
    "        vect0 = vect.copy()\n",
    "        vect0[0] = 0\n",
    "        costhess = diags(vect, -1) + diags(vect0, 1)\n",
    "        vect1 = np.array(costhess.sum(axis=1)).flatten()\n",
    "\n",
    "        # First row is zero apart from first element\n",
    "        vect1[0] = -1\n",
    "        costhess -= diags(vect1)\n",
    "\n",
    "        return -costhess"
   ]
  },
  {
   "cell_type": "code",
   "execution_count": 3,
   "id": "08eed046-1174-442f-8969-7eba59fbb501",
   "metadata": {},
   "outputs": [],
   "source": [
    "class OptimalTransport1D(PowerDiagram1D):\n",
    "    def __init__(self, X, masses, rho, intp_rho=None, L=1.0):\n",
    "        super().__init__(X, L=L)\n",
    "        self.masses = np.array(masses, copy=True)\n",
    "        self.rho = rho\n",
    "        self.intp_rho = intp_rho  # list of integrals of rho\n",
    "        \n",
    "    def compute_ot_cost(self):\n",
    "        \"\"\"\n",
    "        Compute the optimal transport cost using direct quadrature.\n",
    "        \"\"\"\n",
    "        N = len(self.Bounds) - 1\n",
    "        integrals = np.zeros(N)\n",
    "        for i in range(N):\n",
    "            fun = lambda x: ((x - self.X[self.indices][i])**2 - self.weights[self.indices][i]) * self.rho(x)\n",
    "            integrals[i], _ = quad(fun, self.Bounds[i], self.Bounds[i + 1]) # same, more readable\n",
    "        return np.sum(integrals) + np.sum(self.masses * self.weights)\n",
    "\n",
    "    def compute_ot_cost_ipp(self):\n",
    "        \"\"\"\n",
    "        Compute the optimal transport cost using integration by parts.\n",
    "        \"\"\"\n",
    "        # Modified to make it cleaner, more readable, and easier to debug\n",
    "        term1 = np.sum(self.compute_integrals_ipp(self.intp_rho, p=2))\n",
    "        term2 = np.sum(self.compute_integrals_ipp(self.intp_rho, p=0) * self.weights[self.indices])\n",
    "        return np.sum(self.masses * self.weights) + (term1 - term2)\n",
    "\n",
    "    def update_weights(self, tol=1e-6, maxIter=5e2, verbose=False):\n",
    "        \"\"\"\n",
    "        Computes optimal weights with damped Newton\n",
    "        \"\"\"\n",
    "        # Armijo parameter\n",
    "        alphaA = 0.01\n",
    "        tau_init = 0.5\n",
    "        # New maximum number of update_boundaries() per step; used in the linesearch later\n",
    "        max_line_search_trials = 3 \n",
    "    \n",
    "        self.update_boundaries()\n",
    "    \n",
    "        F = -self.masses.copy()\n",
    "        if self.intp_rho is None:\n",
    "            F[self.indices] += self.compute_integrals(self.rho)\n",
    "            cost_old = self.compute_ot_cost()\n",
    "        else:\n",
    "            F[self.indices] += self.compute_integrals_ipp(self.intp_rho, p=0)\n",
    "            cost_old = self.compute_ot_cost_ipp()\n",
    "    \n",
    "        error = np.linalg.norm(F)\n",
    "        i = 0\n",
    "    \n",
    "        while error > tol and i < maxIter:\n",
    "            Hess = self.compute_integrals_gradient(self.rho)\n",
    "    \n",
    "            theta = 0.0\n",
    "            deltaw = -theta * F\n",
    "            deltaw[self.indices] -= (1 - theta) * spsolve(Hess, F[self.indices])\n",
    "    \n",
    "            weights_old = self.weights.copy()\n",
    "            tau = tau_init\n",
    "            trial = 0\n",
    "    \n",
    "            \"\"\"\n",
    "            Smarter line search:\n",
    "            Do not call update_boundaries() endlessly (3 times max), \n",
    "            where update_boundaries() has complexity of O(n)\n",
    "            \"\"\"\n",
    "            while trial < max_line_search_trials:\n",
    "                self.weights = weights_old + tau * deltaw\n",
    "                self.update_boundaries()\n",
    "    \n",
    "                if self.intp_rho is None:\n",
    "                    cost = self.compute_ot_cost()\n",
    "                else:\n",
    "                    cost = self.compute_ot_cost_ipp()\n",
    "    \n",
    "                # Armijo condition\n",
    "                if (cost >= cost_old + tau * alphaA * np.dot(F, deltaw)\n",
    "                        and len(self.indices) == len(self.X)):\n",
    "                    break\n",
    "                else:\n",
    "                    tau *= 0.8\n",
    "                    trial += 1\n",
    "    \n",
    "            # (If after 3 trials we still haven't satisfied Armijo, accept the last tau anyway)\n",
    "    \n",
    "            cost_old = cost\n",
    "            i += 1\n",
    "    \n",
    "            # Update F and error\n",
    "            F = -self.masses.copy()\n",
    "            if self.intp_rho is None:\n",
    "                F[self.indices] += self.compute_integrals(self.rho)\n",
    "            else:\n",
    "                F[self.indices] += self.compute_integrals_ipp(self.intp_rho, p=0)\n",
    "    \n",
    "            error = np.linalg.norm(F)\n",
    "    \n",
    "            if verbose:\n",
    "                print(f\"Newton step {i}, cost: {cost:.6f}, tau: {tau:.2e}, error: {error:.2e}\")\n",
    "    \n",
    "            tau_init = min(tau * 1.1, 1.0)\n",
    "    \n",
    "        if i < maxIter and verbose:\n",
    "            print(\"Optimization success!\")"
   ]
  },
  {
   "cell_type": "code",
   "execution_count": 4,
   "id": "28eef153-ca10-4ae7-b4a0-2c8f7d09d0c9",
   "metadata": {},
   "outputs": [],
   "source": [
    "# Number of main signal samples\n",
    "N = 300\n",
    "\n",
    "# set seed for both the original version and this version to compare time cost\n",
    "np.random.seed(0)\n",
    "\n",
    "# Main signal: Beta(2, 2)\n",
    "sig = np.random.beta(2, 2, size=N - 14)\n",
    "\n",
    "# Contaminations: 7 samples from each\n",
    "noi1 = np.random.beta(1, 100, size=7)\n",
    "noi2 = np.random.beta(100, 1, size=7)\n",
    "\n",
    "# Combine and sort\n",
    "X = np.sort(np.concatenate([sig, noi1, noi2]))\n",
    "\n",
    "# Convert to array (already is)\n",
    "X = np.array(X)"
   ]
  },
  {
   "cell_type": "code",
   "execution_count": 5,
   "id": "fcdbe9ec-4c72-444f-9693-0f3ed37e3738",
   "metadata": {},
   "outputs": [
    {
     "data": {
      "text/plain": [
       "(array([1, 2, 3, 4, 5, 6, 7, 8, 9]),)"
      ]
     },
     "execution_count": 5,
     "metadata": {},
     "output_type": "execute_result"
    }
   ],
   "source": [
    "np.where(np.arange(10) > 0)"
   ]
  },
  {
   "cell_type": "code",
   "execution_count": 6,
   "id": "08e73816-4822-4b72-8dc4-da8da64baddf",
   "metadata": {},
   "outputs": [],
   "source": [
    "start_time = time.time()"
   ]
  },
  {
   "cell_type": "code",
   "execution_count": 7,
   "id": "0311541d-0094-4fb9-8422-18040c81f3f7",
   "metadata": {},
   "outputs": [
    {
     "name": "stdout",
     "output_type": "stream",
     "text": [
      "0\n",
      "1.2158741100964394e-07\n",
      "1\n",
      "5.1428963651131116e-08\n",
      "2\n",
      "2.1664364228955605e-08\n",
      "3\n",
      "9.108133419884284e-09\n",
      "4\n",
      "3.827182729400238e-09\n",
      "5\n",
      "1.6087159351899864e-09\n",
      "6\n",
      "6.767821017965231e-10\n",
      "7\n",
      "2.8503670967108425e-10\n",
      "8\n",
      "1.2019465937995035e-10\n",
      "9\n",
      "5.074786312792838e-11\n",
      "10\n",
      "2.1453520347486016e-11\n",
      "11\n",
      "9.080780868251087e-12\n",
      "12\n",
      "3.84848300199274e-12\n",
      "13\n",
      "1.6330584774284434e-12\n",
      "14\n",
      "6.938599867054585e-13\n",
      "15\n",
      "2.952032351271308e-13\n",
      "16\n",
      "1.2577089770030044e-13\n",
      "17\n",
      "5.3664735766780923e-14\n",
      "18\n",
      "2.2934897970477403e-14\n",
      "19\n",
      "9.818873622953025e-15\n",
      "20\n",
      "4.211628564885972e-15\n",
      "21\n",
      "1.810240933429563e-15\n",
      "22\n",
      "7.798341398521378e-16\n",
      "23\n",
      "3.367717508533113e-16\n",
      "24\n",
      "1.4582431729389156e-16\n",
      "25\n",
      "6.332606734382047e-17\n",
      "26\n",
      "2.758628571972593e-17\n",
      "27\n",
      "1.2057648820075038e-17\n",
      "28\n",
      "5.289198393422884e-18\n",
      "29\n",
      "2.329004617168309e-18\n",
      "30\n",
      "1.0296589549835557e-18\n",
      "31\n",
      "4.571299681655491e-19\n",
      "32\n",
      "2.038350485170856e-19\n",
      "33\n",
      "9.129926598490654e-20\n",
      "34\n",
      "4.108149109099475e-20\n",
      "35\n",
      "1.857121334569812e-20\n"
     ]
    }
   ],
   "source": [
    "L = 1.\n",
    "masses = np.ones(N) / N\n",
    "\n",
    "## Centering distribution is Beta(2,2)\n",
    "rho0 = lambda x: 6*x*(1-x)\n",
    "\n",
    "mass = 1.\n",
    "masses = masses*mass\n",
    "\n",
    "eta = 1e-3 # learning rate\n",
    "n = len(X)\n",
    "maxiter = 3000\n",
    "\n",
    "## Run the fixed point iteration 80 times\n",
    "for i in range(maxiter): \n",
    "    # solve optimal transport\n",
    "    ot = OptimalTransport1D(X,masses,rho0, L=L)\n",
    "    ot.update_weights(maxIter=1,verbose =False)\n",
    "    ww=ot.weights\n",
    "\n",
    "    # update masses\n",
    "    masses1 = masses + eta*(-1-np.log(n*masses) - 2*5*ww)\n",
    "\n",
    "    # projection back to simplex\n",
    "    temp = np.max(np.where((masses1 + 1/(np.arange(1, len(masses1) + 1))*(1 - np.cumsum(masses1)) > 0))) + 1\n",
    "    right_shift = (1/temp)*(1-np.cumsum(masses1)[temp-1])\n",
    "    masses1 = masses1 + right_shift\n",
    "    masses1[masses1 < 0] = 0\n",
    "\n",
    "    # convergence check\n",
    "    err = np.sum((masses-masses1)**2)\n",
    "    if err <= 1e-20: \n",
    "      break\n",
    "        \n",
    "    ## print iteration\n",
    "    print(i)\n",
    "    ## track error\n",
    "    print(err)\n",
    "    masses = masses1"
   ]
  },
  {
   "cell_type": "code",
   "execution_count": 8,
   "id": "ecf86bbe-bd3f-479d-837d-ace2a091d12c",
   "metadata": {},
   "outputs": [
    {
     "name": "stdout",
     "output_type": "stream",
     "text": [
      "Final error after loop: 8.43e-21\n"
     ]
    }
   ],
   "source": [
    "# check final error for comparison\n",
    "print(f\"Final error after loop: {err:.2e}\")"
   ]
  },
  {
   "cell_type": "code",
   "execution_count": 9,
   "id": "d522efad-5ff9-4205-ba08-3e1844bd2e3c",
   "metadata": {},
   "outputs": [
    {
     "name": "stdout",
     "output_type": "stream",
     "text": [
      "Time cost: 14.890323 seconds\n"
     ]
    }
   ],
   "source": [
    "end_time = time.time()\n",
    "print(f\"Time cost: {end_time - start_time:.6f} seconds\")\n",
    "# usually 70~90 seconds"
   ]
  },
  {
   "cell_type": "code",
   "execution_count": 10,
   "id": "bd348aec-1206-4b1b-8a58-0705acbcbfaa",
   "metadata": {},
   "outputs": [],
   "source": [
    "x=ot.weights"
   ]
  },
  {
   "cell_type": "code",
   "execution_count": 11,
   "id": "e41c4a62-4ea3-4252-a511-2614e6a5be72",
   "metadata": {},
   "outputs": [
    {
     "data": {
      "text/plain": [
       "Text(0.5, 1.0, 'Histogram of Original Data')"
      ]
     },
     "execution_count": 11,
     "metadata": {},
     "output_type": "execute_result"
    },
    {
     "data": {
      "image/png": "[encoded data removed]",
      "text/plain": [
       "<Figure size 1200x400 with 1 Axes>"
      ]
     },
     "metadata": {},
     "output_type": "display_data"
    }
   ],
   "source": [
    "# Assuming X and masses1 (updated weights) are already defined\n",
    "N = len(X)\n",
    "\n",
    "# 1. Histogram of original data\n",
    "plt.figure(figsize=(12, 4))\n",
    "plt.subplot(1, 2, 1)\n",
    "plt.hist(X, bins=40, edgecolor='black')\n",
    "plt.title(\"Histogram of Original Data\")"
   ]
  },
  {
   "cell_type": "code",
   "execution_count": 12,
   "id": "ef0839c9-7aec-442a-b74e-8908e820d34e",
   "metadata": {},
   "outputs": [
    {
     "data": {
      "image/png": "[encoded data removed]",
      "text/plain": [
       "<Figure size 640x480 with 1 Axes>"
      ]
     },
     "metadata": {},
     "output_type": "display_data"
    }
   ],
   "source": [
    "# 2. Plot centering density Beta(2, 2)\n",
    "grid = np.linspace(0, 1, 100)\n",
    "plt.subplot(1, 2, 2)\n",
    "plt.plot(grid, beta.pdf(grid, 2, 2), label='Beta(2,2)', color='blue')\n",
    "plt.title(\"Centering Density: Beta(2,2)\")\n",
    "plt.xlabel(\"x\")\n",
    "plt.ylabel(\"Density\")\n",
    "plt.legend()\n",
    "plt.tight_layout()\n",
    "plt.show()"
   ]
  },
  {
   "cell_type": "code",
   "execution_count": 13,
   "id": "e68948c4-332c-4fdf-a26b-2d7ec1a81ab9",
   "metadata": {},
   "outputs": [
    {
     "data": {
      "image/png": "[encoded data removed]",
      "text/plain": [
       "<Figure size 640x480 with 1 Axes>"
      ]
     },
     "metadata": {},
     "output_type": "display_data"
    }
   ],
   "source": [
    "# 3. Plot updated weights vs uniform weights\n",
    "plt.figure()\n",
    "plt.plot(masses1, label='Updated weights', color='blue')\n",
    "plt.plot(np.ones(N)/N, label='Uniform weights', color='red', linestyle='--')\n",
    "plt.title(\"Updated Weights vs Uniform\")\n",
    "plt.xlabel(\"Index\")\n",
    "plt.ylabel(\"Weight\")\n",
    "plt.legend()\n",
    "plt.show()"
   ]
  },
  {
   "cell_type": "code",
   "execution_count": 14,
   "id": "f368d486-4943-4c80-89af-62cfc034cc8a",
   "metadata": {},
   "outputs": [
    {
     "data": {
      "image/png": "[encoded data removed]",
      "text/plain": [
       "<Figure size 640x480 with 1 Axes>"
      ]
     },
     "metadata": {},
     "output_type": "display_data"
    }
   ],
   "source": [
    "# 4. Resample X using updated weights\n",
    "X_tilde = np.random.choice(X, size=N, p=masses1, replace=True)\n",
    "\n",
    "# Plot histogram of resampled data\n",
    "plt.hist(X_tilde, bins=40, edgecolor='black')\n",
    "plt.title(\"Histogram of Resampled X using Updated Weights\")\n",
    "plt.show()"
   ]
  }
 ],
 "metadata": {
  "kernelspec": {
   "display_name": "Python 3 (ipykernel)",
   "language": "python",
   "name": "python3"
  },
  "language_info": {
   "codemirror_mode": {
    "name": "ipython",
    "version": 3
   },
   "file_extension": ".py",
   "mimetype": "text/x-python",
   "name": "python",
   "nbconvert_exporter": "python",
   "pygments_lexer": "ipython3",
   "version": "3.13.3"
  }
 },
 "nbformat": 4,
 "nbformat_minor": 5
}
