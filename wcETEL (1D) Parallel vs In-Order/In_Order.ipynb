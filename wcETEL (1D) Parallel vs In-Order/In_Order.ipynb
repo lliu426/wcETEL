{
 "cells": [
  {
   "cell_type": "code",
   "execution_count": 4,
   "id": "1b6e7aab-24d9-47cc-ba53-c2614d368b2f",
   "metadata": {},
   "outputs": [],
   "source": [
    "from data_generator import datasets\n",
    "from run_wcETEL_analysis_module import run_wcETEL_analysis\n",
    "import time"
   ]
  },
  {
   "cell_type": "code",
   "execution_count": 5,
   "id": "cbe42f44-0c2f-4976-adc7-acf7980b4345",
   "metadata": {},
   "outputs": [],
   "source": [
    "start_time = time.time()"
   ]
  },
  {
   "cell_type": "code",
   "execution_count": null,
   "id": "aba31511-ef0a-4526-b8a5-a178fcd444a6",
   "metadata": {},
   "outputs": [],
   "source": [
    "for name, X in datasets.items():\n",
    "    print(f\"\\n=== Running wcETEL analysis on dataset: {name} ===\")\n",
    "    run_wcETEL_analysis(X)"
   ]
  },
  {
   "cell_type": "code",
   "execution_count": 4,
   "id": "9fb96952-ad33-4c3d-a92c-a84696ad8d67",
   "metadata": {},
   "outputs": [
    {
     "name": "stdout",
     "output_type": "stream",
     "text": [
      "\n",
      "Total runtime for all datasets (sequential): 64.48 seconds\n"
     ]
    }
   ],
   "source": [
    "end_time = time.time()\n",
    "print(f\"\\nTotal runtime for all datasets (sequential): {end_time - start_time:.2f} seconds\")"
   ]
  }
 ],
 "metadata": {
  "kernelspec": {
   "display_name": "Python 3 (ipykernel)",
   "language": "python",
   "name": "python3"
  },
  "language_info": {
   "codemirror_mode": {
    "name": "ipython",
    "version": 3
   },
   "file_extension": ".py",
   "mimetype": "text/x-python",
   "name": "python",
   "nbconvert_exporter": "python",
   "pygments_lexer": "ipython3",
   "version": "3.11.5"
  }
 },
 "nbformat": 4,
 "nbformat_minor": 5
}
